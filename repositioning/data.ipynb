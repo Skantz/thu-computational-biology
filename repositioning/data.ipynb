{
 "cells": [
  {
   "cell_type": "code",
   "execution_count": 38,
   "metadata": {},
   "outputs": [],
   "source": [
    "import numpy as np\n",
    "import matplotlib.pyplot as plt\n",
    "import glob\n",
    "import sys\n",
    "import pickle\n",
    "import csv\n",
    "import random"
   ]
  },
  {
   "cell_type": "code",
   "execution_count": 25,
   "metadata": {},
   "outputs": [],
   "source": [
    "#drug_iddict        final_Virus_DTI_add_organism.tsv  human_seq_dict.pkl    VDTI_net.npy           virusseq_add_ncov.pkl\n",
    "#drug_info.tsv      HDTI_net.npy                      human_seq_iddict.pkl  VHI_net.npy            virusseq_add_ncovseqdict.pkl\n",
    "#Drug_simi_net.npy  human.npy                         PPI_net.npy           virusseq_add_ncov.npy"
   ]
  },
  {
   "cell_type": "code",
   "execution_count": 26,
   "metadata": {},
   "outputs": [
    {
     "output_type": "stream",
     "name": "stdout",
     "text": "(6255, 6255)\n[1.         0.12962963 0.09183674 ... 0.1        0.11504425 0.16842106]\n(6255, 2567)\n[0. 0. 0. ... 0. 0. 0.]\n(2567, 2567)\n[1.         0.13113017 0.12197821 ... 0.10474334 0.05903945 0.08940052]\n(2567, 2567)\n[1. 0. 0. ... 0. 0. 0.]\n! (6255, 404)\n! [0. 0. 0. 0. 0. 0. 0. 0. 0. 0. 0. 0. 0. 0. 0. 0. 0. 0. 0. 0. 0. 0. 0. 0.\n 0. 0. 0. 0. 0. 0. 0. 0. 0. 0. 0. 0. 0. 0. 0. 0. 0. 0. 0. 0. 0. 0. 0. 0.\n 0. 0. 0. 0. 0. 0. 0. 0. 0. 0. 0. 0. 0. 0. 0. 0. 0. 0. 0. 0. 0. 0. 0. 0.\n 0. 0. 0. 0. 0. 0. 0. 0. 0. 0. 0. 0. 0. 0. 0. 0. 0. 0. 0. 0. 0. 0. 0. 0.\n 0. 0. 0. 0. 0. 0. 0. 0. 0. 0. 0. 0. 0. 0. 0. 0. 0. 0. 0. 0. 0. 0. 0. 0.\n 0. 0. 0. 0. 0. 0. 0. 0. 0. 0. 0. 0. 0. 0. 0. 0. 0. 0. 0. 0. 0. 0. 0. 0.\n 0. 0. 0. 0. 0. 0. 0. 0. 0. 0. 0. 0. 0. 0. 0. 0. 0. 0. 0. 0. 0. 0. 0. 0.\n 0. 0. 0. 0. 0. 0. 0. 0. 0. 0. 0. 0. 0. 0. 0. 0. 0. 0. 0. 0. 0. 0. 0. 0.\n 0. 0. 0. 0. 0. 0. 0. 0. 0. 0. 0. 0. 0. 0. 0. 0. 0. 0. 0. 0. 0. 0. 0. 0.\n 0. 0. 0. 0. 0. 0. 0. 0. 0. 0. 0. 0. 0. 0. 0. 0. 0. 0. 0. 0. 0. 0. 0. 0.\n 0. 0. 0. 0. 0. 0. 0. 0. 0. 0. 0. 0. 0. 0. 0. 0. 0. 0. 0. 0. 0. 0. 0. 0.\n 0. 0. 0. 0. 0. 0. 0. 0. 0. 0. 0. 0. 0. 0. 0. 0. 0. 0. 0. 0. 0. 0. 0. 0.\n 0. 0. 0. 0. 0. 0. 0. 0. 0. 0. 0. 0. 0. 0. 0. 0. 0. 0. 0. 0. 0. 0. 0. 0.\n 0. 0. 0. 0. 0. 0. 0. 0. 0. 0. 0. 0. 0. 0. 0. 0. 0. 0. 0. 0. 0. 0. 0. 0.\n 0. 0. 0. 0. 0. 0. 0. 0. 0. 0. 0. 0. 0. 0. 0. 0. 0. 0. 0. 0. 0. 0. 0. 0.\n 0. 0. 0. 0. 0. 0. 0. 0. 0. 0. 0. 0. 0. 0. 0. 0. 0. 0. 0. 0. 0. 0. 0. 0.\n 0. 0. 0. 0. 0. 0. 0. 0. 1. 0. 0. 0. 0. 0. 0. 0. 0. 0. 0. 0.]\n(404, 2567)\n[0. 0. 0. ... 0. 0. 0.]\n(404, 404)\n[1.         0.11469507 0.08437638 0.12196071 0.97484043 0.6033205\n 0.60183347 0.25745007 0.15469448 0.13174675 0.05295195 0.11635954\n 0.16949265 0.60709472 0.17874299 0.5037049  0.13213941 0.96943618\n 0.44503648 0.16637724 0.11791316 0.13500972 0.14380818 0.10568126\n 0.24520869 0.09385314 0.25960261 0.05228062 0.12007102 0.12879105\n 0.61030334 0.13837984 0.97425087 0.10644111 0.0944609  0.54779466\n 0.60174794 0.14562239 0.12723504 0.14614263 0.25684185 0.12981847\n 0.24049696 0.10816288 0.60769708 0.18106027 0.12958389 0.05870386\n 0.1694926  0.14112621 0.14473743 0.13995517 0.09566196 0.50019343\n 0.14593944 0.24298882 0.14122613 0.08244728 0.07302348 0.12651105\n 0.05638961 0.11206834 0.97485316 0.25881149 0.25960261 0.11597168\n 0.11703246 0.14760126 0.2460367  0.16427887 0.95500242 0.24706051\n 0.15368103 0.23403568 0.60744283 0.14717945 0.04595072 0.60955837\n 0.25881593 0.60266451 0.10528253 0.11162268 0.1331538  0.24865163\n 0.60727713 0.60931259 0.05023543 0.10386233 0.13523375 0.15929597\n 0.25960261 0.24609377 0.07213064 0.12448044 0.08048535 0.14104598\n 0.13862117 0.14137965 0.14402235 0.13543442 0.60629988 0.1242206\n 0.14326137 0.16732325 0.14202776 0.14017289 0.60913968 0.17483217\n 0.6066103  0.50553429 0.24026501 0.2445821  0.41359003 0.16902424\n 0.11602112 0.54972171 0.1345271  0.09153539 0.60641596 0.60920184\n 0.25999595 0.17211558 0.13312863 0.25881593 0.12499396 0.04301372\n 0.12204513 0.13681001 0.16907354 0.15136443 0.11803181 0.60745059\n 0.11403208 0.08119021 0.1792532  0.06410683 0.60812834 0.13491195\n 0.60863616 0.11193802 0.13987452 0.12973974 0.15212866 0.24497281\n 0.1429465  0.15962686 0.05281666 0.1406033  0.09673327 0.25388166\n 0.16422521 0.16664792 0.16700309 0.11272123 0.25664125 0.25960261\n 0.14775859 0.1512144  0.12296236 0.09972399 0.10526055 0.97580449\n 0.2434212  0.12097344 0.24476348 0.12979103 0.60870548 0.06722154\n 0.50272759 0.26038928 0.06554048 0.0623819  0.12574367 0.13997683\n 0.10972633 0.14529262 0.16826508 0.09622707 0.14291601 0.25467011\n 0.10820802 0.07205724 0.170028   0.62246175 0.12702601 0.12191822\n 0.07845913 0.2445821  0.42012512 0.26157018 0.60697883 0.14156497\n 0.2584226  0.25606257 0.11602112 0.11690782 0.1693     0.41617342\n 0.44148479 0.1543426  0.14328456 0.16825719 0.1757138  0.13752082\n 0.16486741 0.24323756 0.14788035 0.10790749 0.16554712 0.11006408\n 0.13357027 0.16717707 0.13085804 0.97128567 0.10075998 0.16631459\n 0.17029418 0.41930878 0.09895917 0.14180261 0.60706797 0.53289523\n 0.2523187  0.24588519 0.25898569 0.09643871 0.07632019 0.24093494\n 0.13555281 0.13474168 0.1656222  0.1448779  0.11176968 0.14503426\n 0.23983853 0.05233402 0.24338011 0.41557146 0.25881593 0.14917391\n 0.13418453 0.10039452 0.15299529 0.12414474 0.0698813  0.14502649\n 0.09888983 0.60913968 0.13002929 0.09569646 0.16776117 0.49278467\n 0.07218845 0.16955991 0.13486107 0.13132822 0.16962919 0.16665599\n 0.11433731 0.17328089 0.16389805 0.52778983 0.24704244 0.10440141\n 0.13551804 0.2441914  0.12386568 0.07423077 0.16142222 0.12626202\n 0.12248407 0.09528933 0.11175881 0.25920542 0.11330531 0.09416969\n 0.25882094 0.10002297 0.14087194 0.44377282 0.08294691 0.17375368\n 0.07285925 0.06774494 0.08831117 0.12422689 0.11422427 0.9179911\n 0.0686389  0.13402188 0.61219879 0.25802926 0.12880479 0.1346986\n 0.22568183 0.07828436 0.21704529 0.24757404 0.13595026 0.25153143\n 0.06440112 0.12434657 0.16365917 0.11335052 0.07101065 0.24599961\n 0.24978774 0.14773646 0.15153937 0.14213235 0.25822319 0.17486657\n 0.41225675 0.12554862 0.07157657 0.10598866 0.12760747 0.04571039\n 0.08521844 0.17453751 0.14503057 0.06240523 0.2584226  0.14746685\n 0.10733168 0.16668806 0.1455521  0.10842631 0.12104445 0.17437051\n 0.60728897 0.13609502 0.16731023 0.11526519 0.1259419  0.0830869\n 0.16573323 0.12628684 0.13819557 0.14333024 0.12246413 0.17071755\n 0.12472727 0.51192471 0.24624553 0.24561851 0.1693019  0.2405419\n 0.24578834 0.60364461 0.1628629  0.05705524 0.25782956 0.0895022\n 0.60865617 0.17989903 0.18144207 0.08224486 0.12189915 0.14557475\n 0.25625503 0.12286391 0.24783935 0.05035021 0.16053559 0.14264525\n 0.24298882 0.16943679 0.14341292 0.11872103 0.25335056 0.10097953\n 0.03224386 0.25271233 0.26235567 0.2425368  0.11256531 0.6052263\n 0.24259754 0.08547043 0.12770317 0.13986083 0.60489834 0.10472758\n 0.05502928 0.14074113 0.60852523 0.24823781 0.08846753 0.12300859\n 0.10102375 0.14360381 0.44870872 0.24783935 0.24093494 0.14575639\n 0.23360002 0.24567644 0.14115743 0.24904321 0.2256066  0.11469842\n 0.51957617 0.07319988]\n"
    }
   ],
   "source": [
    "#NPY\n",
    "drug_simi_net = np.load(\"DTI-data/Drug_simi_net.npy\")\n",
    "print(drug_simi_net.shape)\n",
    "print(drug_simi_net[0])\n",
    "HDTI_net = np.load(\"DTI-data/HDTI_net.npy\")\n",
    "print(HDTI_net.shape)\n",
    "print(HDTI_net[0])\n",
    "human = np.load(\"DTI-data/human.npy\")\n",
    "print(human.shape)\n",
    "print(human[0])\n",
    "ppi_net = np.load(\"DTI-data/PPI_net.npy\")\n",
    "print(ppi_net.shape)\n",
    "print(ppi_net[0])\n",
    "#This is our ultimate target\n",
    "vdti_net = np.load(\"DTI-data/VDTI_net.npy\")\n",
    "print(\"!\", vdti_net.shape)\n",
    "print(\"!\", vdti_net[0])\n",
    "vhi_net = np.load(\"DTI-data/VHI_net.npy\")\n",
    "print(vhi_net.shape)\n",
    "print(vhi_net[0])\n",
    "virusseq_add_ncov = np.load(\"DTI-data/virusseq_add_ncov.npy\")\n",
    "print(virusseq_add_ncov.shape)\n",
    "print(virusseq_add_ncov[0])"
   ]
  },
  {
   "cell_type": "code",
   "execution_count": 27,
   "metadata": {},
   "outputs": [
    {
     "output_type": "stream",
     "name": "stdout",
     "text": "MQIELSTCFFLCLLRFCFSATRRYYLGAVELSWDYMQSDLGELPVDARFPPRVPKSFPFNTSVVYKKTLFVEFTDHLFNIAKPRPPWMGLLGPTIQAEVY \n\n1 \n\n0 \n\nMGARASVLSGGELDKWEKIRLRPGGKKQYKLKHIVWASRELERFAVNPGLLETSEGCRQILGQLQPSLQTGSEELRSLYNTIAVLYCVHQRIDVKDTKEA \n\n0 \n\n"
    }
   ],
   "source": [
    "#PICKLE\n",
    "with open(\"DTI-data/human_seq_dict.pkl\", 'rb') as f:\n",
    "    human_seq_dict = pickle.load(f)\n",
    "with open(\"DTI-data/human_seq_iddict.pkl\", 'rb') as f:    \n",
    "    human_seq_iddict = pickle.load(f)\n",
    "with open(\"DTI-data/virusseq_add_ncov.pkl\", 'rb') as f:\n",
    "    virusseq_add_ncov = pickle.load(f)\n",
    "with open(\"DTI-data/virusseq_add_ncovseqdict.pkl\", 'rb') as f:\n",
    "    virusseq_add_ncovseqdict = pickle.load(f)\n",
    "with open(\"DTI-data/drug_iddict\", 'rb') as f:\n",
    "    drug_iddict = pickle.load(f)\n",
    "\n",
    "print(human_seq_dict[list(human_seq_dict.keys())[0]][:100], \"\\n\")\n",
    "print(human_seq_iddict[list(human_seq_iddict.keys())[0]], \"\\n\")\n",
    "print(virusseq_add_ncov[list(virusseq_add_ncov.keys())[0]], \"\\n\")\n",
    "print(virusseq_add_ncovseqdict[list(virusseq_add_ncovseqdict.keys())[0]][:100], \"\\n\")\n",
    "print(drug_iddict[list(drug_iddict.keys())[0]], \"\\n\")"
   ]
  },
  {
   "cell_type": "code",
   "execution_count": 28,
   "metadata": {},
   "outputs": [
    {
     "output_type": "stream",
     "name": "stdout",
     "text": "[['InChI', 'DrugBank ID', 'Drug name'], ['InChI=1S/C19H25N8O9P/c20-13-1-2-26(19(30)25-13)15-4-10(11(5-28)34-15)36-37(31,32)33-6-12-9(29)3-14(35-12)27-8-24-16-17(21)22-7-23-18(16)27/h1-2,7-12,14-15,28-29H,3-6H2,(H,31,32)(H2,20,25,30)(H2,21,22,23)/t9-,10-,11+,12+,14+,15+/m0/s1', 'DB02573', \"2'-deoxycytidine-2'-deoxyadenosine-3',5'-monophosphate\"]]\n\n[['InChI', 'Smiles', 'sequence', 'uniprotid', 'origanism'], ['InChI=1S/C31H51N5O5/c1-20(2)28(32-22(5)37)30(40)34-26(17-24-13-9-7-10-14-24)27(39)19-36(18-25-15-11-8-12-16-25)35-31(41)29(21(3)4)33-23(6)38/h7,9-10,13-14,20-21,25-29,39H,8,11-12,15-19H2,1-6H3,(H,32,37)(H,33,38)(H,34,40)(H,35,41)/t26-,27-,28-,29-/m0/s1', 'CC(O)=N[C@H](C(O)=N[C@@H](Cc1ccccc1)[C@@H](O)CN(CC1CCCCC1)N=C(O)[C@@H](N=C(C)O)C(C)C)C(C)C', 'PQITLWQRPLVTIKIGGQLKEALLDTGADDTVLEEMNLPGRWKPKMIGGIGGFIKVRQYDQILIEICGHKAIGTVLVGPTPVNIIGRNLLTQIGCTLNF', 'Q999P5', 'Human immunodeficiency virus 1']]\n"
    }
   ],
   "source": [
    "#TSV\n",
    "with open(\"DTI-data/drug_info.tsv\", \"r\") as f:\n",
    "    drug_info = csv.reader(f, delimiter = '\\t')\n",
    "    drug_info = list(drug_info)\n",
    "with open(\"DTI-data/final_Virus_DTI_add_organism.tsv\", \"r\") as f:\n",
    "    final_Virus_DTI_add_organism = csv.reader(f, delimiter = '\\t') \n",
    "    final_Virus_DTI_add_organism = list(final_Virus_DTI_add_organism)\n",
    "\n",
    "print(drug_info[0:2])\n",
    "print(\"\")\n",
    "print(final_Virus_DTI_add_organism[0:2])"
   ]
  },
  {
   "cell_type": "code",
   "execution_count": 29,
   "metadata": {},
   "outputs": [
    {
     "output_type": "stream",
     "name": "stdout",
     "text": "data.ipynb   DTI-data\t\t     KnowledgeGraphEmbedding\ndata_.ipynb  homework_repositioning\n"
    }
   ],
   "source": [
    "!ls"
   ]
  },
  {
   "cell_type": "code",
   "execution_count": 66,
   "metadata": {},
   "outputs": [
    {
     "output_type": "stream",
     "name": "stdout",
     "text": "(6255, 2567)\n[0. 0. 0. ... 0. 0. 0.]\n! (6255, 404)\n! [0. 0. 0. 0. 0. 0. 0. 0. 0. 0. 0. 0. 0. 0. 0. 0. 0. 0. 0. 0. 0. 0. 0. 0.\n 0. 0. 0. 0. 0. 0. 0. 0. 0. 0. 0. 0. 0. 0. 0. 0. 0. 0. 0. 0. 0. 0. 0. 0.\n 0. 0. 0. 0. 0. 0. 0. 0. 0. 0. 0. 0. 0. 0. 0. 0. 0. 0. 0. 0. 0. 0. 0. 0.\n 0. 0. 0. 0. 0. 0. 0. 0. 0. 0. 0. 0. 0. 0. 0. 0. 0. 0. 0. 0. 0. 0. 0. 0.\n 0. 0. 0. 0. 0. 0. 0. 0. 0. 0. 0. 0. 0. 0. 0. 0. 0. 0. 0. 0. 0. 0. 0. 0.\n 0. 0. 0. 0. 0. 0. 0. 0. 0. 0. 0. 0. 0. 0. 0. 0. 0. 0. 0. 0. 0. 0. 0. 0.\n 0. 0. 0. 0. 0. 0. 0. 0. 0. 0. 0. 0. 0. 0. 0. 0. 0. 0. 0. 0. 0. 0. 0. 0.\n 0. 0. 0. 0. 0. 0. 0. 0. 0. 0. 0. 0. 0. 0. 0. 0. 0. 0. 0. 0. 0. 0. 0. 0.\n 0. 0. 0. 0. 0. 0. 0. 0. 0. 0. 0. 0. 0. 0. 0. 0. 0. 0. 0. 0. 0. 0. 0. 0.\n 0. 0. 0. 0. 0. 0. 0. 0. 0. 0. 0. 0. 0. 0. 0. 0. 0. 0. 0. 0. 0. 0. 0. 0.\n 0. 0. 0. 0. 0. 0. 0. 0. 0. 0. 0. 0. 0. 0. 0. 0. 0. 0. 0. 0. 0. 0. 0. 0.\n 0. 0. 0. 0. 0. 0. 0. 0. 0. 0. 0. 0. 0. 0. 0. 0. 0. 0. 0. 0. 0. 0. 0. 0.\n 0. 0. 0. 0. 0. 0. 0. 0. 0. 0. 0. 0. 0. 0. 0. 0. 0. 0. 0. 0. 0. 0. 0. 0.\n 0. 0. 0. 0. 0. 0. 0. 0. 0. 0. 0. 0. 0. 0. 0. 0. 0. 0. 0. 0. 0. 0. 0. 0.\n 0. 0. 0. 0. 0. 0. 0. 0. 0. 0. 0. 0. 0. 0. 0. 0. 0. 0. 0. 0. 0. 0. 0. 0.\n 0. 0. 0. 0. 0. 0. 0. 0. 0. 0. 0. 0. 0. 0. 0. 0. 0. 0. 0. 0. 0. 0. 0. 0.\n 0. 0. 0. 0. 0. 0. 0. 0. 1. 0. 0. 0. 0. 0. 0. 0. 0. 0. 0. 0.]\n(404, 2567)\n[0. 0. 0. ... 0. 0. 0.]\n9226\n9226\n"
    },
    {
     "output_type": "error",
     "ename": "AssertionError",
     "evalue": "",
     "traceback": [
      "\u001b[0;31m---------------------------------------------------------------------------\u001b[0m",
      "\u001b[0;31mAssertionError\u001b[0m                            Traceback (most recent call last)",
      "\u001b[0;32m<ipython-input-66-f241647848ad>\u001b[0m in \u001b[0;36m<module>\u001b[0;34m\u001b[0m\n\u001b[1;32m     74\u001b[0m         \u001b[0mj\u001b[0m \u001b[0;34m=\u001b[0m \u001b[0;36m0\u001b[0m\u001b[0;34m\u001b[0m\u001b[0;34m\u001b[0m\u001b[0m\n\u001b[1;32m     75\u001b[0m         \u001b[0;32mfor\u001b[0m \u001b[0m_\u001b[0m\u001b[0;34m,\u001b[0m \u001b[0mv\u001b[0m \u001b[0;32min\u001b[0m \u001b[0mnp\u001b[0m\u001b[0;34m.\u001b[0m\u001b[0mndenumerate\u001b[0m\u001b[0;34m(\u001b[0m\u001b[0mr\u001b[0m\u001b[0;34m)\u001b[0m\u001b[0;34m:\u001b[0m\u001b[0;34m\u001b[0m\u001b[0;34m\u001b[0m\u001b[0m\n\u001b[0;32m---> 76\u001b[0;31m             \u001b[0;32massert\u001b[0m\u001b[0;34m(\u001b[0m\u001b[0mi\u001b[0m \u001b[0;34m+\u001b[0m \u001b[0mVIRUS_OFFSET\u001b[0m \u001b[0;34m<\u001b[0m \u001b[0msum_\u001b[0m \u001b[0;32mand\u001b[0m \u001b[0mj\u001b[0m \u001b[0;34m+\u001b[0m \u001b[0mHUMAN_OFFSET\u001b[0m \u001b[0;34m<\u001b[0m \u001b[0msum_\u001b[0m\u001b[0;34m)\u001b[0m\u001b[0;34m\u001b[0m\u001b[0;34m\u001b[0m\u001b[0m\n\u001b[0m\u001b[1;32m     77\u001b[0m             \u001b[0;32mif\u001b[0m \u001b[0mv\u001b[0m\u001b[0;34m:\u001b[0m\u001b[0;34m\u001b[0m\u001b[0;34m\u001b[0m\u001b[0m\n\u001b[1;32m     78\u001b[0m                 \u001b[0mf\u001b[0m\u001b[0;34m.\u001b[0m\u001b[0mwrite\u001b[0m\u001b[0;34m(\u001b[0m\u001b[0mstr\u001b[0m\u001b[0;34m(\u001b[0m\u001b[0mi\u001b[0m \u001b[0;34m+\u001b[0m \u001b[0mVIRUS_OFFSET\u001b[0m\u001b[0;34m)\u001b[0m \u001b[0;34m+\u001b[0m \u001b[0;34m\"\\t\"\u001b[0m \u001b[0;34m+\u001b[0m \u001b[0;34m\"2\"\u001b[0m  \u001b[0;34m+\u001b[0m \u001b[0;34m\"\\t\"\u001b[0m \u001b[0;34m+\u001b[0m \u001b[0mstr\u001b[0m\u001b[0;34m(\u001b[0m\u001b[0mj\u001b[0m \u001b[0;34m+\u001b[0m \u001b[0mHUMAN_OFFSET\u001b[0m\u001b[0;34m)\u001b[0m \u001b[0;34m+\u001b[0m \u001b[0;34m\"\\n\"\u001b[0m\u001b[0;34m)\u001b[0m\u001b[0;34m\u001b[0m\u001b[0;34m\u001b[0m\u001b[0m\n",
      "\u001b[0;31mAssertionError\u001b[0m: "
     ]
    }
   ],
   "source": [
    "# KnowledgeGraphEmbedding expects 5 files\n",
    "\n",
    "# entities.dict - maps entities to ids\n",
    "# relations.dict - maps relations to ids\n",
    "# train.txt - entity id to relation id\n",
    "# valid.txt - can be blank\n",
    "# test.txt\n",
    "\n",
    "print(HDTI_net.shape)\n",
    "print(HDTI_net[0])\n",
    "\n",
    "print(\"!\", vdti_net.shape)\n",
    "print(\"!\", vdti_net[0])\n",
    "\n",
    "print(vhi_net.shape)\n",
    "print(vhi_net[0])\n",
    "\n",
    "#entities.dict\n",
    "\n",
    "DRUG_COUNT = 6255\n",
    "HUMAN_COUNT = 2567\n",
    "VIRUS_COUNT = 404\n",
    "\n",
    "sum_ = DRUG_COUNT + HUMAN_COUNT + VIRUS_COUNT\n",
    "\n",
    "HUMAN_OFFSET = 6255\n",
    "VIRUS_OFFSET = 6255 + 2567\n",
    "\n",
    "with open(\"KnowledgeGraphEmbedding/data/C-19/entities.dict\", \"w\") as f:\n",
    "    cnt = 0\n",
    "    for i in range(DRUG_COUNT + HUMAN_COUNT + VIRUS_COUNT):\n",
    "        f.write(str(i) + \"\\t\" + str(i) + \"\\n\")\n",
    "        cnt += 1\n",
    "    print(cnt)\n",
    "    print(sum_)\n",
    "    assert(cnt == sum_)\n",
    "\n",
    "#relations.dict\n",
    "\n",
    "with open(\"KnowledgeGraphEmbedding/data/C-19/relations.dict\", \"w\") as f:\n",
    "    f.write(\"0\\t0\\n\")\n",
    "    f.write(\"1\\t1\\n\")\n",
    "    f.write(\"2\\t2\")\n",
    "#with open(\"KnowledgeGraphEmbedding/data/C-19/entities.dict\" as f):\n",
    "\n",
    "#all.txt\n",
    "\n",
    "with open(\"KnowledgeGraphEmbedding/data/C-19/all.dict\", \"w\") as f:\n",
    "    #drug -> human\n",
    "    i = 0 \n",
    "    for _, r in np.ndenumerate(HDTI_net):\n",
    "        j = 0\n",
    "        for _, v in np.ndenumerate(r):\n",
    "            assert(j + HUMAN_OFFSET < sum_)\n",
    "            if v:\n",
    "                f.write(str(i) + \"\\t\" + \"0\"  + \"\\t\" + str(j + HUMAN_OFFSET) + \"\\n\")\n",
    "            j += 1\n",
    "        j = 0\n",
    "        i += 1\n",
    "    #drug -> virus\n",
    "    i = 0\n",
    "    for _, r in np.ndenumerate(vdti_net):\n",
    "        j = 0\n",
    "        for _, v in np.ndenumerate(r):\n",
    "            #print(v.shape)\n",
    "            assert(j + VIRUS_OFFSET < sum_)\n",
    "            if v:\n",
    "                f.write(str(i) + \"\\t\" + \"1\"  + \"\\t\" +  str(j + VIRUS_OFFSET) + \"\\n\")  \n",
    "            j += 1\n",
    "        i += 1     \n",
    "    #virus -> human\n",
    "    i = 0\n",
    "    for _, r in np.ndenumerate(vhi_net):\n",
    "        j = 0\n",
    "        for _, v in np.ndenumerate(r):\n",
    "            assert(i + VIRUS_OFFSET < sum_ and j + HUMAN_OFFSET < sum_)\n",
    "            if v:\n",
    "                f.write(str(i + VIRUS_OFFSET) + \"\\t\" + \"2\"  + \"\\t\" + str(j + HUMAN_OFFSET) + \"\\n\")        \n",
    "            j += 1\n",
    "        i += 1     \n",
    "\n",
    "TRAIN_TEST_SPLIT = 0.85\n",
    "TRAIN_VAL_SPLIT  = 0.90\n",
    "\n",
    "with open(\"KnowledgeGraphEmbedding/data/C-19/all.dict\", \"r\") as f:\n",
    "    lst = f.readlines()\n",
    "    train_t = random.sample(lst, int(len(lst) * TRAIN_TEST_SPLIT))\n",
    "    train   = random.sample(train_t, int(len(train_t) * TRAIN_VAL_SPLIT))\n",
    "    val     = [e for e in train_t if e not in train]\n",
    "    test    = [e for e in lst if e not in train_t]\n",
    "    #train.txt\n",
    "    with open(\"KnowledgeGraphEmbedding/data/C-19/train.txt\", \"w+\") as f:\n",
    "        f.writelines(train)\n",
    "    #valid.txt\n",
    "    with open(\"KnowledgeGraphEmbedding/data/C-19/val.txt\", \"w+\")   as f:\n",
    "        f.writelines(val)\n",
    "    #test.txt\n",
    "    with open(\"KnowledgeGraphEmbedding/data/C-19/test.txt\", \"w+\")  as f:\n",
    "        f.writelines(test)"
   ]
  },
  {
   "cell_type": "code",
   "execution_count": 68,
   "metadata": {},
   "outputs": [
    {
     "output_type": "stream",
     "name": "stdout",
     "text": "2020-05-27 20:11:22,422 INFO     Model: RotatE\n2020-05-27 20:11:22,422 INFO     Data Path: KnowledgeGraphEmbedding/data/C-19\n2020-05-27 20:11:22,422 INFO     #entity: 9226\n2020-05-27 20:11:22,422 INFO     #relation: 3\nTraceback (most recent call last):\n  File \"KnowledgeGraphEmbedding/codes/run.py\", line 361, in <module>\n    main(parse_args())\n  File \"KnowledgeGraphEmbedding/codes/run.py\", line 211, in main\n    train_triples = read_triple(os.path.join(args.data_path, 'train.txt'), entity2id, relation2id)\n  File \"KnowledgeGraphEmbedding/codes/run.py\", line 127, in read_triple\n    triples.append((entity2id[h], relation2id[r], entity2id[t]))\nKeyError: '10114'\n"
    }
   ],
   "source": [
    "#train, test\n",
    "\n",
    "!CUDA_VISIBLE_DEVICES=0 python -u KnowledgeGraphEmbedding/codes/run.py --do_train \\\n",
    " --cuda \\\n",
    " --do_valid \\\n",
    " --do_test \\\n",
    " --data_path KnowledgeGraphEmbedding/data/C-19 \\\n",
    " --model RotatE \\\n",
    " -n 256 -b 1024 -d 1000 \\\n",
    " -g 24.0 -a 1.0 -adv \\\n",
    " -lr 0.0001 --max_steps 150000 \\\n",
    " -save KnowledgeGraphEmbedding/models/RotatE_C-19_0 --test_batch_size 16 -de"
   ]
  },
  {
   "cell_type": "code",
   "execution_count": null,
   "metadata": {},
   "outputs": [],
   "source": []
  },
  {
   "cell_type": "code",
   "execution_count": null,
   "metadata": {},
   "outputs": [],
   "source": []
  }
 ],
 "metadata": {
  "language_info": {
   "codemirror_mode": {
    "name": "ipython",
    "version": 3
   },
   "file_extension": ".py",
   "mimetype": "text/x-python",
   "name": "python",
   "nbconvert_exporter": "python",
   "pygments_lexer": "ipython3",
   "version": "3.7.6-final"
  },
  "orig_nbformat": 2,
  "kernelspec": {
   "name": "python37664bitdeeplearningcondabb63992eb3684dd0924ac6194c142535",
   "display_name": "Python 3.7.6 64-bit ('deep-learning': conda)"
  }
 },
 "nbformat": 4,
 "nbformat_minor": 2
}